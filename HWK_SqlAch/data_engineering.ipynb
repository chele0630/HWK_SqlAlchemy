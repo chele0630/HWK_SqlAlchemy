{
 "cells": [
  {
   "cell_type": "code",
   "execution_count": 1,
   "metadata": {},
   "outputs": [],
   "source": [
    "### BEGIN SOLUTION\n",
    "import os\n",
    "import pandas as pd\n",
    "import numpy as np\n",
    "### END SOLUTION"
   ]
  },
  {
   "cell_type": "code",
   "execution_count": 2,
   "metadata": {},
   "outputs": [],
   "source": [
    "# Grab a reference to the current directory\n",
    "### BEGIN SOLUTION\n",
    "rootdir = os.getcwd()\n",
    "### END SOLUTION"
   ]
  },
  {
   "cell_type": "code",
   "execution_count": 3,
   "metadata": {},
   "outputs": [],
   "source": [
    "# Use `os.scandir` to get a list of all files in the current directory\n",
    "### BEGIN SOLUTION\n",
    "csvs = os.scandir(rootdir)\n",
    "### END SOLUTION"
   ]
  },
  {
   "cell_type": "code",
   "execution_count": 4,
   "metadata": {},
   "outputs": [],
   "source": [
    "# Iterate through the list and clean/process any CSV file using Pandas\n",
    "### BEGIN SOLUTION\n",
    "for csv in csvs:\n",
    "    # Only open CSV file extensions\n",
    "    if csv.name.endswith('.csv'):\n",
    "        # Read the CSV file\n",
    "        df = pd.read_csv(csv.path, dtype=object)\n",
    "\n",
    "        # Drop the location column since lat, lon, and elev already exist\n",
    "        if 'location' in df.columns:\n",
    "            df = df.drop(['location'], axis=1).reset_index(drop=True)\n",
    "        \n",
    "        # Use the mean to fill in any NaNs\n",
    "        df.fillna(df.mean(), inplace=True)\n",
    "\n",
    "        # Save the cleaned files with a `clean_` prefix\n",
    "        df.to_csv(os.path.join(rootdir, f\"clean_{csv.name}\"), index=False)\n",
    "### END SOLUTION"
   ]
  },
  {
   "cell_type": "code",
   "execution_count": 5,
   "metadata": {},
   "outputs": [
    {
     "name": "stderr",
     "output_type": "stream",
     "text": [
      "'ls' is not recognized as an internal or external command,\n",
      "operable program or batch file.\n"
     ]
    }
   ],
   "source": [
    "# Verify that the cleaned files were created\n",
    "!ls"
   ]
  }
 ],
 "metadata": {
  "kernelspec": {
   "display_name": "Python 3",
   "language": "python",
   "name": "python3"
  },
  "language_info": {
   "codemirror_mode": {
    "name": "ipython",
    "version": 3
   },
   "file_extension": ".py",
   "mimetype": "text/x-python",
   "name": "python",
   "nbconvert_exporter": "python",
   "pygments_lexer": "ipython3",
   "version": "3.7.0"
  }
 },
 "nbformat": 4,
 "nbformat_minor": 2
}
